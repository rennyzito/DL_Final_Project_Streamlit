{
 "cells": [
  {
   "cell_type": "code",
   "execution_count": 24,
   "metadata": {
    "tags": []
   },
   "outputs": [],
   "source": [
    "import pandas\n",
    "import keras\n",
    "from matplotlib import pyplot\n",
    "from sklearn.preprocessing import StandardScaler, OneHotEncoder\n",
    "import pathlib\n",
    "from sklearn.model_selection import train_test_split\n",
    "\n",
    "%matplotlib inline"
   ]
  },
  {
   "cell_type": "code",
   "execution_count": 25,
   "metadata": {},
   "outputs": [],
   "source": [
    "# CLASSIFIER PARAMETERS\n",
    "class_col = 'blueWins'\n",
    "\n",
    "# TRAINING PARAMETERS\n",
    "n_layers = 1\n",
    "n_neurons = 8\n",
    "hidden_neuron_activation = 'tanh' # 'tanh', 'relu', 'sigmoid'\n",
    "my_metric = 'Accuracy' # 'Precision', 'Recall', 'Accuracy'\n",
    "min_improvement = 0.01\n",
    "my_patience = 500\n",
    "base_max_epoch = 10*my_patience\n",
    "optimizer_name = 'adam' # 'sgd', 'adam', 'rmsprop'\n",
    "lr = 0.001\n",
    "n_k_folds = 5\n",
    "hyperconfig_stat = 'mean' # 'mean', 'median', 'max', 'min'\n",
    "loss_function = \"mse\"\n",
    "activation_type = 'sigmoid' # 'linear', 'logistic', 'softmax'\n",
    "\n",
    "\n",
    "# CONTROL RANDOMNESS\n",
    "random_seed = 33"
   ]
  },
  {
   "cell_type": "code",
   "execution_count": 26,
   "metadata": {},
   "outputs": [],
   "source": [
    "# SET THE RANDOM SEED\n",
    "keras.utils.set_random_seed(random_seed)"
   ]
  },
  {
   "cell_type": "code",
   "execution_count": 27,
   "metadata": {},
   "outputs": [],
   "source": [
    "# BUILD PATH TO DATA USING PATHLIB\n",
    "this_folder = pathlib.Path.cwd()\n",
    "data_folder = this_folder.parent\n",
    "path_to_rankedLOL = data_folder / 'datasets' / 'high_diamond_ranked_10min.csv'\n",
    "games = pandas.read_csv(path_to_rankedLOL)"
   ]
  },
  {
   "cell_type": "code",
   "execution_count": 28,
   "metadata": {},
   "outputs": [],
   "source": [
    "games[\"gold_diff\"] = games[\"blueGoldDiff\"]\n",
    "games[\"exp_diff\"] = games[\"blueExperienceDiff\"]\n",
    "games[\"kills_diff\"] = games[\"blueKills\"] - games[\"redKills\"]\n",
    "games[\"dragons_diff\"] = games[\"blueDragons\"] - games[\"redDragons\"]\n",
    "games[\"deaths_diff\"] = games[\"blueDeaths\"] - games[\"redDeaths\"]\n",
    "\n",
    "# Selecionar apenas alvo + features finais\n",
    "games = games[[\n",
    "    \"blueWins\", \"gold_diff\", \"exp_diff\", \"kills_diff\", \"dragons_diff\", \"deaths_diff\"\n",
    "]]"
   ]
  },
  {
   "cell_type": "markdown",
   "metadata": {},
   "source": []
  },
  {
   "cell_type": "code",
   "execution_count": 29,
   "metadata": {},
   "outputs": [
    {
     "name": "stdout",
     "output_type": "stream",
     "text": [
      "ADAM-TANH-N8 > epochs: 585 loss: 0.18 val_loss: 0.19 Accuracy: 74% val_Accuracy: 72%\n"
     ]
    }
   ],
   "source": [
    "my_vars = list(games.columns[games.columns != class_col])\n",
    "df_X = games[my_vars]\n",
    "one_hot = OneHotEncoder(sparse_output=False)\n",
    "df_Y_categorical = games[[class_col]]\n",
    "Y_array_categorical = df_Y_categorical.to_numpy()\n",
    "one_hot.fit(Y_array_categorical)\n",
    "df_Y = pandas.DataFrame(one_hot.transform(Y_array_categorical))\n",
    "df_Y.columns = one_hot.categories_\n",
    "n_classes = df_Y.columns.shape[0]\n",
    "\n",
    "# PREPARE DATA\n",
    "X = df_X.to_numpy()\n",
    "Y = df_Y.to_numpy()\n",
    "\n",
    "# NORMALIZE VARIABLES\n",
    "X_scaler = StandardScaler()\n",
    "X_scaler = X_scaler.fit(X)\n",
    "X_scaled = X_scaler.transform(X)\n",
    "\n",
    "# BASE TRAINING LOOP\n",
    "X_train, X_val, Y_train, Y_val = train_test_split(X_scaled, Y, test_size=0.2, random_state=random_seed)\n",
    "\n",
    "# TRAINING LOOP\n",
    "    \n",
    "# DECLARE NET\n",
    "inputs = keras.Input(shape=(len(my_vars), ))\n",
    "hidden = keras.layers.Dense(n_neurons, activation=hidden_neuron_activation)(inputs)\n",
    "#hidden = keras.layers.Dense(4, activation=hidden_neuron_activation)(hidden)\n",
    "bnorm = keras.layers.BatchNormalization()(hidden)\n",
    "outputs = keras.layers.Dense(n_classes, activation=activation_type)(bnorm)\n",
    "model_name = f'{optimizer_name.upper()}-{hidden_neuron_activation.upper()}-N{n_neurons}'\n",
    "my_net = keras.Model(inputs=inputs, outputs=outputs, name=model_name)\n",
    "val_metric_name = 'val_{}'.format(my_metric)\n",
    "\n",
    "match optimizer_name:\n",
    "    case 'sgd':\n",
    "        optimizer = keras.optimizers.SGD(learning_rate=lr)\n",
    "    case 'adam':\n",
    "        optimizer = keras.optimizers.Adam(learning_rate=lr)\n",
    "    case 'rmsprop':\n",
    "        optimizer = keras.optimizers.RMSprop(learning_rate=lr)\n",
    "    case _:\n",
    "        raise ValueError(f'Optimizer {optimizer_name} not recognized')\n",
    "\n",
    "my_net.compile(optimizer=optimizer, loss=loss_function, metrics=[my_metric])\n",
    "es_loss = keras.callbacks.EarlyStopping(monitor='val_loss', patience=my_patience, restore_best_weights=True)\n",
    "es_metric = keras.callbacks.EarlyStopping(monitor=my_metric, mode='max', patience=my_patience, min_delta=min_improvement, restore_best_weights=True)\n",
    "\n",
    "# FIT\n",
    "history = my_net.fit(X_train, Y_train, validation_data=(X_val, Y_val), batch_size=X_train.shape[0], epochs=base_max_epoch, verbose=0, callbacks=[es_loss, es_metric])\n",
    "\n",
    "# UNPACK TRAINING RESULTS\n",
    "model_loss = history.history['loss'][-1]\n",
    "model_val_loss = history.history['val_loss'][-1]\n",
    "metric_val = history.history[my_metric][-1]\n",
    "val_metric_val = history.history[val_metric_name][-1]\n",
    "n_epochs = len(history.history['val_loss'])\n",
    "result_dict = {'model_name': model_name,\n",
    "                'optimizer_name' : optimizer_name,\n",
    "                'loss': model_loss,\n",
    "                'val_loss': model_val_loss,\n",
    "                my_metric: metric_val,\n",
    "                val_metric_name: val_metric_val,\n",
    "                'epochs': n_epochs,\n",
    "                'net': my_net,\n",
    "                'history': history}\n",
    "print(f'{model_name} > epochs: {n_epochs} loss: {model_loss:.2f} val_loss: {model_val_loss:.2f} {my_metric}: {100.0*metric_val:.0f}% {val_metric_name}: {100.0*val_metric_val:.0f}%')\n"
   ]
  },
  {
   "cell_type": "code",
   "execution_count": null,
   "metadata": {},
   "outputs": [
    {
     "ename": "NameError",
     "evalue": "name 'best_final_history' is not defined",
     "output_type": "error",
     "traceback": [
      "\u001b[31m---------------------------------------------------------------------------\u001b[39m",
      "\u001b[31mNameError\u001b[39m                                 Traceback (most recent call last)",
      "\u001b[36mCell\u001b[39m\u001b[36m \u001b[39m\u001b[32mIn[30]\u001b[39m\u001b[32m, line 4\u001b[39m\n\u001b[32m      2\u001b[39m fig = pyplot.figure(figsize=(\u001b[32m12\u001b[39m, \u001b[32m6\u001b[39m))\n\u001b[32m      3\u001b[39m ax = fig.add_subplot(\u001b[32m111\u001b[39m)\n\u001b[32m----> \u001b[39m\u001b[32m4\u001b[39m _ = ax.plot(\u001b[43mbest_final_history\u001b[49m.history[\u001b[33m'\u001b[39m\u001b[33mloss\u001b[39m\u001b[33m'\u001b[39m], label=\u001b[33m'\u001b[39m\u001b[33mloss\u001b[39m\u001b[33m'\u001b[39m)\n\u001b[32m      5\u001b[39m _ = ax.plot(best_final_history.history[\u001b[33m'\u001b[39m\u001b[33mval_loss\u001b[39m\u001b[33m'\u001b[39m], label=\u001b[33m'\u001b[39m\u001b[33mval_loss\u001b[39m\u001b[33m'\u001b[39m)\n\u001b[32m      6\u001b[39m _ = ax.grid(which=\u001b[33m'\u001b[39m\u001b[33mmajor\u001b[39m\u001b[33m'\u001b[39m, linestyle=\u001b[33m'\u001b[39m\u001b[33m--\u001b[39m\u001b[33m'\u001b[39m, linewidth=\u001b[33m'\u001b[39m\u001b[33m0.5\u001b[39m\u001b[33m'\u001b[39m, color=\u001b[33m'\u001b[39m\u001b[33mgray\u001b[39m\u001b[33m'\u001b[39m)\n",
      "\u001b[31mNameError\u001b[39m: name 'best_final_history' is not defined"
     ]
    },
    {
     "data": {
      "image/png": "[encoded data removed]",
      "text/plain": [
       "<Figure size 1200x600 with 1 Axes>"
      ]
     },
     "metadata": {},
     "output_type": "display_data"
    }
   ],
   "source": [
    "# PLOT TRAINING HISTORY\n",
    "fig = pyplot.figure(figsize=(12, 6))\n",
    "ax = fig.add_subplot(111)\n",
    "_ = ax.plot(history.history['loss'], label='loss')\n",
    "_ = ax.plot(history.history['val_loss'], label='val_loss')\n",
    "_ = ax.grid(which='major', linestyle='--', linewidth='0.5', color='gray')\n",
    "_ = ax.legend()"
   ]
  }
 ],
 "metadata": {
  "kernelspec": {
   "display_name": "infnet-nn-pd-3124",
   "language": "python",
   "name": "python3"
  },
  "language_info": {
   "codemirror_mode": {
    "name": "ipython",
    "version": 3
   },
   "file_extension": ".py",
   "mimetype": "text/x-python",
   "name": "python",
   "nbconvert_exporter": "python",
   "pygments_lexer": "ipython3",
   "version": "3.12.4"
  },
  "orig_nbformat": 2
 },
 "nbformat": 4,
 "nbformat_minor": 2
}
