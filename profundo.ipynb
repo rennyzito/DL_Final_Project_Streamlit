{
 "cells": [
  {
   "cell_type": "code",
   "execution_count": 122,
   "metadata": {
    "tags": []
   },
   "outputs": [],
   "source": [
    "import pandas\n",
    "import keras\n",
    "from matplotlib import pyplot\n",
    "from sklearn.preprocessing import StandardScaler, OneHotEncoder\n",
    "from sklearn.model_selection import StratifiedKFold\n",
    "import pathlib\n",
    "from sklearn.metrics import confusion_matrix\n",
    "from sklearn.model_selection import train_test_split\n",
    "\n",
    "%matplotlib inline"
   ]
  },
  {
   "cell_type": "code",
   "execution_count": 123,
   "metadata": {},
   "outputs": [],
   "source": [
    "# CLASSIFIER PARAMETERS\n",
    "class_col = 'blueWins'\n",
    "\n",
    "# TRAINING PARAMETERS\n",
    "n_layers = 1\n",
    "n_neurons = 8\n",
    "hidden_neuron_activation = 'tanh' # 'tanh', 'relu', 'sigmoid'\n",
    "my_metric = 'Accuracy' # 'Precision', 'Recall', 'Accuracy'\n",
    "min_improvement = 0.01\n",
    "my_patience = 500\n",
    "base_max_epoch = 10*my_patience\n",
    "optimizer_name = 'adam' # 'sgd', 'adam', 'rmsprop'\n",
    "lr = 0.001\n",
    "n_k_folds = 5\n",
    "hyperconfig_stat = 'mean' # 'mean', 'median', 'max', 'min'\n",
    "loss_function = \"mse\"\n",
    "activation_type = 'sigmoid' # 'linear', 'logistic', 'softmax'\n",
    "\n",
    "\n",
    "# CONTROL RANDOMNESS\n",
    "random_seed = 33"
   ]
  },
  {
   "cell_type": "code",
   "execution_count": 124,
   "metadata": {},
   "outputs": [],
   "source": [
    "# SET THE RANDOM SEED\n",
    "keras.utils.set_random_seed(random_seed)"
   ]
  },
  {
   "cell_type": "code",
   "execution_count": 125,
   "metadata": {},
   "outputs": [],
   "source": [
    "# BUILD PATH TO DATA USING PATHLIB\n",
    "this_folder = pathlib.Path.cwd()\n",
    "data_folder = this_folder.parent\n",
    "path_to_rankedLOL = data_folder / 'datasets' / 'high_diamond_ranked_10min.csv'\n",
    "games = pandas.read_csv(path_to_rankedLOL)"
   ]
  },
  {
   "cell_type": "code",
   "execution_count": 126,
   "metadata": {},
   "outputs": [
    {
     "data": {
      "text/html": [
       "<div>\n",
       "<style scoped>\n",
       "    .dataframe tbody tr th:only-of-type {\n",
       "        vertical-align: middle;\n",
       "    }\n",
       "\n",
       "    .dataframe tbody tr th {\n",
       "        vertical-align: top;\n",
       "    }\n",
       "\n",
       "    .dataframe thead th {\n",
       "        text-align: right;\n",
       "    }\n",
       "</style>\n",
       "<table border=\"1\" class=\"dataframe\">\n",
       "  <thead>\n",
       "    <tr style=\"text-align: right;\">\n",
       "      <th></th>\n",
       "      <th>blueWins</th>\n",
       "      <th>gold_diff</th>\n",
       "      <th>exp_diff</th>\n",
       "      <th>kills_diff</th>\n",
       "      <th>dragons_diff</th>\n",
       "      <th>deaths_diff</th>\n",
       "    </tr>\n",
       "  </thead>\n",
       "  <tbody>\n",
       "    <tr>\n",
       "      <th>0</th>\n",
       "      <td>0</td>\n",
       "      <td>643</td>\n",
       "      <td>-8</td>\n",
       "      <td>3</td>\n",
       "      <td>0</td>\n",
       "      <td>-3</td>\n",
       "    </tr>\n",
       "    <tr>\n",
       "      <th>1</th>\n",
       "      <td>0</td>\n",
       "      <td>-2908</td>\n",
       "      <td>-1173</td>\n",
       "      <td>0</td>\n",
       "      <td>-1</td>\n",
       "      <td>0</td>\n",
       "    </tr>\n",
       "    <tr>\n",
       "      <th>2</th>\n",
       "      <td>0</td>\n",
       "      <td>-1172</td>\n",
       "      <td>-1033</td>\n",
       "      <td>-4</td>\n",
       "      <td>1</td>\n",
       "      <td>4</td>\n",
       "    </tr>\n",
       "    <tr>\n",
       "      <th>3</th>\n",
       "      <td>0</td>\n",
       "      <td>-1321</td>\n",
       "      <td>-7</td>\n",
       "      <td>-1</td>\n",
       "      <td>0</td>\n",
       "      <td>1</td>\n",
       "    </tr>\n",
       "    <tr>\n",
       "      <th>4</th>\n",
       "      <td>0</td>\n",
       "      <td>-1004</td>\n",
       "      <td>230</td>\n",
       "      <td>0</td>\n",
       "      <td>-1</td>\n",
       "      <td>0</td>\n",
       "    </tr>\n",
       "    <tr>\n",
       "      <th>...</th>\n",
       "      <td>...</td>\n",
       "      <td>...</td>\n",
       "      <td>...</td>\n",
       "      <td>...</td>\n",
       "      <td>...</td>\n",
       "      <td>...</td>\n",
       "    </tr>\n",
       "    <tr>\n",
       "      <th>9874</th>\n",
       "      <td>1</td>\n",
       "      <td>2519</td>\n",
       "      <td>2469</td>\n",
       "      <td>3</td>\n",
       "      <td>1</td>\n",
       "      <td>-3</td>\n",
       "    </tr>\n",
       "    <tr>\n",
       "      <th>9875</th>\n",
       "      <td>1</td>\n",
       "      <td>782</td>\n",
       "      <td>888</td>\n",
       "      <td>2</td>\n",
       "      <td>1</td>\n",
       "      <td>-2</td>\n",
       "    </tr>\n",
       "    <tr>\n",
       "      <th>9876</th>\n",
       "      <td>0</td>\n",
       "      <td>-2416</td>\n",
       "      <td>-1877</td>\n",
       "      <td>-1</td>\n",
       "      <td>-1</td>\n",
       "      <td>1</td>\n",
       "    </tr>\n",
       "    <tr>\n",
       "      <th>9877</th>\n",
       "      <td>0</td>\n",
       "      <td>-839</td>\n",
       "      <td>-1085</td>\n",
       "      <td>-1</td>\n",
       "      <td>1</td>\n",
       "      <td>1</td>\n",
       "    </tr>\n",
       "    <tr>\n",
       "      <th>9878</th>\n",
       "      <td>1</td>\n",
       "      <td>927</td>\n",
       "      <td>-58</td>\n",
       "      <td>0</td>\n",
       "      <td>-1</td>\n",
       "      <td>0</td>\n",
       "    </tr>\n",
       "  </tbody>\n",
       "</table>\n",
       "<p>9879 rows × 6 columns</p>\n",
       "</div>"
      ],
      "text/plain": [
       "      blueWins  gold_diff  exp_diff  kills_diff  dragons_diff  deaths_diff\n",
       "0            0        643        -8           3             0           -3\n",
       "1            0      -2908     -1173           0            -1            0\n",
       "2            0      -1172     -1033          -4             1            4\n",
       "3            0      -1321        -7          -1             0            1\n",
       "4            0      -1004       230           0            -1            0\n",
       "...        ...        ...       ...         ...           ...          ...\n",
       "9874         1       2519      2469           3             1           -3\n",
       "9875         1        782       888           2             1           -2\n",
       "9876         0      -2416     -1877          -1            -1            1\n",
       "9877         0       -839     -1085          -1             1            1\n",
       "9878         1        927       -58           0            -1            0\n",
       "\n",
       "[9879 rows x 6 columns]"
      ]
     },
     "execution_count": 126,
     "metadata": {},
     "output_type": "execute_result"
    }
   ],
   "source": [
    "best_features = pandas.DataFrame()\n",
    "best_features[\"blueWins\"] = games[\"blueWins\"]\n",
    "best_features[\"gold_diff\"] = games[\"blueGoldDiff\"]\n",
    "best_features[\"exp_diff\"] = games[\"blueExperienceDiff\"]\n",
    "best_features[\"kills_diff\"] = games[\"blueKills\"] - games[\"redKills\"]\n",
    "best_features[\"dragons_diff\"] = games[\"blueDragons\"] - games[\"redDragons\"]\n",
    "best_features[\"deaths_diff\"] = games[\"blueDeaths\"] - games[\"redDeaths\"]\n",
    "\n",
    "best_features"
   ]
  },
  {
   "cell_type": "code",
   "execution_count": 127,
   "metadata": {},
   "outputs": [
    {
     "name": "stdout",
     "output_type": "stream",
     "text": [
      "\u001b[1m247/247\u001b[0m \u001b[32m━━━━━━━━━━━━━━━━━━━━\u001b[0m\u001b[37m\u001b[0m \u001b[1m0s\u001b[0m 376us/step\n",
      "\u001b[1m62/62\u001b[0m \u001b[32m━━━━━━━━━━━━━━━━━━━━\u001b[0m\u001b[37m\u001b[0m \u001b[1m0s\u001b[0m 421us/step\n"
     ]
    }
   ],
   "source": [
    "# PREPARE VARS AND ENCODER\n",
    "my_vars = list(games.columns[games.columns != class_col])\n",
    "df_X = games[my_vars]\n",
    "one_hot = OneHotEncoder(sparse_output=False)\n",
    "df_Y_categorical = games[[class_col]]\n",
    "Y_array_categorical = df_Y_categorical.to_numpy()\n",
    "one_hot.fit(Y_array_categorical)\n",
    "df_Y = pandas.DataFrame(one_hot.transform(Y_array_categorical))\n",
    "df_Y.columns = one_hot.categories_\n",
    "n_classes = df_Y.columns.shape[0]\n",
    "\n",
    "# PREPARE DATA\n",
    "X = df_X.to_numpy()\n",
    "Y = df_Y.to_numpy()\n",
    "\n",
    "# NORMALIZE VARIABLES\n",
    "X_scaler = StandardScaler()\n",
    "X_scaler = X_scaler.fit(X)\n",
    "X_scaled = X_scaler.transform(X)\n",
    "\n",
    "#ENCODER\n",
    "X_train, X_val, Y_train, Y_val = train_test_split(X_scaled, Y, test_size=0.2, random_state=random_seed)\n",
    "# Dimensão da camada de codificação\n",
    "encoding_dim = 8\n",
    "# Definir a camada de entrada\n",
    "input_encoder = keras.Input(shape=(len(my_vars), ))\n",
    "# Definir a camada de codificação\n",
    "encoded = keras.layers.Dense(encoding_dim, activation=hidden_neuron_activation)(input_encoder)\n",
    "# Definir a camada de decodificação\n",
    "decoded = keras.layers.Dense(len(my_vars), activation=activation_type)(encoded)\n",
    "# Criar o modelo autoencoder\n",
    "autoencoder = keras.models.Model(input_encoder, decoded)\n",
    "# Criar o modelo encoder\n",
    "encoder = keras.models.Model(input_encoder, encoded)\n",
    "# Compilar o modelo autoencoder\n",
    "autoencoder.compile(optimizer='adam', loss='mean_squared_error')\n",
    "# Treinar o modelo autoencoder\n",
    "autoencoder.fit(X_train, X_train,\n",
    "epochs=my_patience,\n",
    "batch_size=len(my_vars),\n",
    "shuffle=True,\n",
    "verbose=0,\n",
    "validation_data=(X_val, X_val))\n",
    "\n",
    "# Codificar os dados de treino e teste\n",
    "X_train_encoded = encoder.predict(X_train)\n",
    "X_val_encoded = encoder.predict(X_val)"
   ]
  },
  {
   "cell_type": "markdown",
   "metadata": {},
   "source": []
  },
  {
   "cell_type": "code",
   "execution_count": 128,
   "metadata": {},
   "outputs": [
    {
     "data": {
      "text/plain": [
       "8"
      ]
     },
     "execution_count": 128,
     "metadata": {},
     "output_type": "execute_result"
    }
   ],
   "source": [
    "X_train_encoded.shape[1]"
   ]
  },
  {
   "cell_type": "code",
   "execution_count": 129,
   "metadata": {},
   "outputs": [
    {
     "data": {
      "text/plain": [
       "{'optimizer_name': 'adam',\n",
       " 'loss': 0.1760919988155365,\n",
       " 'val_loss': 0.18892811238765717,\n",
       " 'Accuracy': 0.7368088364601135,\n",
       " 'val_Accuracy': 0.715080976486206,\n",
       " 'epochs': 816,\n",
       " 'net': <Functional name=functional_32, built=True>,\n",
       " 'history': <keras.src.callbacks.history.History at 0x19a9733d430>}"
      ]
     },
     "execution_count": 129,
     "metadata": {},
     "output_type": "execute_result"
    }
   ],
   "source": [
    "\n",
    "# BASE TRAINING LOOP\n",
    "\n",
    "# DECLARE NET\n",
    "inputs = keras.Input(shape=(X_train_encoded.shape[1], ))\n",
    "hidden = keras.layers.Dense(n_neurons, activation=hidden_neuron_activation)(inputs)\n",
    "hidden = keras.layers.Dense(n_neurons, activation=hidden_neuron_activation)(hidden)\n",
    "bnorm = keras.layers.BatchNormalization()(hidden)\n",
    "outputs = keras.layers.Dense(n_classes, activation=activation_type)(bnorm)\n",
    "\n",
    "my_net = keras.Model(inputs=inputs, outputs=outputs)\n",
    "val_metric_name = 'val_{}'.format(my_metric)\n",
    "\n",
    "match optimizer_name:\n",
    "    case 'sgd':\n",
    "        optimizer = keras.optimizers.SGD(learning_rate=lr)\n",
    "    case 'adam':\n",
    "        optimizer = keras.optimizers.Adam(learning_rate=lr)\n",
    "    case 'rmsprop':\n",
    "        optimizer = keras.optimizers.RMSprop(learning_rate=lr)\n",
    "    case _:\n",
    "        raise ValueError(f'Optimizer {optimizer_name} not recognized')\n",
    "\n",
    "my_net.compile(optimizer=optimizer, loss=loss_function, metrics=[my_metric])\n",
    "es_loss = keras.callbacks.EarlyStopping(monitor='val_loss', patience=my_patience, restore_best_weights=True)\n",
    "es_metric = keras.callbacks.EarlyStopping(monitor=my_metric, mode='max', patience=my_patience, min_delta=min_improvement, restore_best_weights=True)\n",
    "\n",
    "# FIT\n",
    "history = my_net.fit(X_train_encoded, Y_train, validation_data=(X_val_encoded, Y_val), batch_size=X_train_encoded.shape[0], epochs=base_max_epoch, verbose=0, callbacks=[es_loss, es_metric])\n",
    "\n",
    "# UNPACK TRAINING RESULTS\n",
    "model_loss = history.history['loss'][-1]\n",
    "model_val_loss = history.history['val_loss'][-1]\n",
    "metric_val = history.history[my_metric][-1]\n",
    "val_metric_val = history.history[val_metric_name][-1]\n",
    "n_epochs = len(history.history['val_loss'])\n",
    "result_dict = {'optimizer_name' : optimizer_name,\n",
    "                'loss': model_loss,\n",
    "                'val_loss': model_val_loss,\n",
    "                my_metric: metric_val,\n",
    "                val_metric_name: val_metric_val,\n",
    "                'epochs': n_epochs,\n",
    "                'net': my_net,\n",
    "                'history': history}\n",
    "\n",
    "result_dict\n"
   ]
  },
  {
   "cell_type": "code",
   "execution_count": 130,
   "metadata": {},
   "outputs": [
    {
     "data": {
      "image/png": "[encoded data removed]",
      "text/plain": [
       "<Figure size 1200x600 with 1 Axes>"
      ]
     },
     "metadata": {},
     "output_type": "display_data"
    }
   ],
   "source": [
    "# PLOT TRAINING HISTORY\n",
    "fig = pyplot.figure(figsize=(12, 6))\n",
    "ax = fig.add_subplot(111)\n",
    "_ = ax.plot(history.history['loss'], label='loss')\n",
    "_ = ax.plot(history.history['val_loss'], label='val_loss')\n",
    "_ = ax.grid(which='major', linestyle='--', linewidth='0.5', color='gray')\n",
    "_ = ax.legend()"
   ]
  }
 ],
 "metadata": {
  "kernelspec": {
   "display_name": "infnet-nn-pd-3124",
   "language": "python",
   "name": "python3"
  },
  "language_info": {
   "codemirror_mode": {
    "name": "ipython",
    "version": 3
   },
   "file_extension": ".py",
   "mimetype": "text/x-python",
   "name": "python",
   "nbconvert_exporter": "python",
   "pygments_lexer": "ipython3",
   "version": "3.12.4"
  },
  "orig_nbformat": 2
 },
 "nbformat": 4,
 "nbformat_minor": 2
}
